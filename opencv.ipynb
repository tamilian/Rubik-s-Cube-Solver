{
 "cells": [
  {
   "cell_type": "code",
   "execution_count": null,
   "metadata": {},
   "outputs": [],
   "source": [
    "# this is the python script that will take the input of a cube using a camera\n",
    "# and then put it into a txt file which will be fed to the algorithm\n",
    "# the goal is to eventually "
   ]
  },
  {
   "cell_type": "code",
   "execution_count": null,
   "metadata": {},
   "outputs": [],
   "source": [
    "import cv2\n",
    "import numpy as np\n",
    "# Define color ranges to identify the colors\n",
    "\n"
   ]
  },
  {
   "cell_type": "code",
   "execution_count": null,
   "metadata": {},
   "outputs": [],
   "source": [
    "white_lower = (0,0,70)\n",
    "white_upper = (180,30,255)\n",
    "\n",
    "green_lower = (40, 50, 50)\n",
    "green_upper = (80, 255, 255)\n",
    "\n",
    "red_lower = (170, 50, 50)  # consider a wider range for red due to overlap with orange\n",
    "red_upper = (0, 255, 255)\n",
    "\n",
    "orange_lower = (10, 100, 100)  # experiment with orange lower and upper for better separation\n",
    "orange_upper = (40, 255, 255)\n",
    "\n",
    "yellow_lower = (20, 100, 100)\n",
    "yellow_upper = (35, 255, 255)\n",
    "\n",
    "blue_lower = (100, 100, 100)\n",
    "blue_upper = (140, 255, 255)\n"
   ]
  }
 ],
 "metadata": {
  "language_info": {
   "name": "python"
  }
 },
 "nbformat": 4,
 "nbformat_minor": 2
}
